{
 "cells": [
  {
   "cell_type": "markdown",
   "id": "3c21bf17",
   "metadata": {},
   "source": [
    "**BANK ATM PROJECT**"
   ]
  },
  {
   "cell_type": "markdown",
   "id": "12e568ea",
   "metadata": {},
   "source": [
    "**Step 1: Displaying the Menu Options**"
   ]
  },
  {
   "cell_type": "code",
   "execution_count": 1,
   "id": "dca03efe",
   "metadata": {},
   "outputs": [
    {
     "name": "stdout",
     "output_type": "stream",
     "text": [
      "1. Check_Balance\n",
      "2. Deposit\n",
      "3. Withdraw\n",
      "4. Exit\n"
     ]
    }
   ],
   "source": [
    "Menu = ['Check_Balance', 'Deposit', 'Withdraw', 'Exit']\n",
    "\n",
    "for index, value in enumerate(Menu, start=1):\n",
    "    print(f\"{index}. {value}\")"
   ]
  },
  {
   "cell_type": "markdown",
   "id": "1a5b7b8c",
   "metadata": {},
   "source": [
    "**Step 2: Customer Details**"
   ]
  },
  {
   "cell_type": "code",
   "execution_count": 2,
   "id": "8d2db138",
   "metadata": {},
   "outputs": [],
   "source": [
    "Customer_details = {\n",
    "    \"customer_1\": {\"Name\": \"Okeke Chioma\", \"Pin\": \"1234\", \"Balance\": 30000},\n",
    "    \"customer_2\": {\"Name\": \"Agulu Mmadu\", \"Pin\": \"2345\", \"Balance\": 15000},\n",
    "    \"customer_3\": {\"Name\": \"Ifeka Udodi\", \"Pin\": \"5674\", \"Balance\": 100000},\n",
    "    \"customer_4\": {\"Name\": \"Onuwa Ogodi\", \"Pin\": \"3030\", \"Balance\": 80000},\n",
    "    \"customer_5\": {\"Name\": \"Uwakwe Obum\", \"Pin\": \"5050\", \"Balance\": 150000},\n",
    "}"
   ]
  },
  {
   "cell_type": "markdown",
   "id": "ebdfc482",
   "metadata": {},
   "source": [
    "**Step 3: Validating Customer Pin**"
   ]
  },
  {
   "cell_type": "code",
   "execution_count": 3,
   "id": "17e1ef7c",
   "metadata": {},
   "outputs": [],
   "source": [
    "def validate_pin():\n",
    "    Max_attempts = 3\n",
    "    Attempts = 0\n",
    "    \n",
    "    while Attempts < Max_attempts:\n",
    "        user_input = input(\"Enter your four-digit pin: \")\n",
    "        \n",
    "        if any(user_input == Customer_details[f'customer_{i}']['Pin'] for i in range(1, 6)):\n",
    "            print(\"Welcome to Ann Bank dear esteemed customer.\")\n",
    "            return user_input\n",
    "        else:\n",
    "            Attempts += 1\n",
    "            remaining_attempts = Max_attempts - Attempts\n",
    "            if remaining_attempts > 0:\n",
    "                print(f\"Wrong pin! {remaining_attempts} attempts left. Enter your pin: \")\n",
    "    \n",
    "    print(\"Sorry, your card has been blocked!\")\n",
    "    return None"
   ]
  },
  {
   "cell_type": "code",
   "execution_count": 4,
   "id": "92048c2b",
   "metadata": {},
   "outputs": [],
   "source": [
    "def Check_Balance(pin):\n",
    "    for key, value in Customer_details.items():\n",
    "        if pin == value['Pin']:\n",
    "            return value['Balance']\n",
    "    return \"Wrong Pin!\""
   ]
  },
  {
   "cell_type": "code",
   "execution_count": 5,
   "id": "e93fd79f",
   "metadata": {},
   "outputs": [],
   "source": [
    "def deposit(pin):\n",
    "    for key, value in Customer_details.items():\n",
    "        if pin == value['Pin']:\n",
    "            Deposit_Amount = int(input(\"Enter the amount you want to deposit: \"))\n",
    "            Customer_details[key][\"Balance\"] += Deposit_Amount\n",
    "            print(f\"Successful deposit. Your current account balance is {Customer_details[key]['Balance']}\")\n",
    "            return Customer_details[key]['Balance']\n",
    "    return \"Wrong Pin!\""
   ]
  },
  {
   "cell_type": "code",
   "execution_count": 6,
   "id": "b30487b6",
   "metadata": {},
   "outputs": [],
   "source": [
    "def withdraw(pin):\n",
    "    for key, value in Customer_details.items():\n",
    "        if pin == value['Pin']:\n",
    "            current_balance = Customer_details[key][\"Balance\"]\n",
    "            withdraw_input = int(input(\"Enter the amount you want to withdraw: \"))\n",
    "            if withdraw_input <= current_balance:\n",
    "                Customer_details[key][\"Balance\"] -= withdraw_input\n",
    "                print(f\"Successful! Take your cash. Your new balance is {Customer_details[key]['Balance']}\")\n",
    "                return Customer_details[key]['Balance']\n",
    "            else: \n",
    "                print(\"Insufficient Balance\")\n",
    "                return current_balance\n",
    "    return \"Wrong Pin!\""
   ]
  },
  {
   "cell_type": "code",
   "execution_count": 8,
   "id": "6f8020ab",
   "metadata": {},
   "outputs": [
    {
     "name": "stdout",
     "output_type": "stream",
     "text": [
      "Enter your four-digit pin: 3030\n",
      "Welcome to Ann Bank dear esteemed customer.\n",
      "\n",
      "Please choose an option:\n",
      "1. Check_Balance\n",
      "2. Deposit\n",
      "3. Withdraw\n",
      "4. Exit\n",
      "Enter your choice (1-4): 1\n",
      "Your current balance is: 80000\n",
      "\n",
      "Please choose an option:\n",
      "1. Check_Balance\n",
      "2. Deposit\n",
      "3. Withdraw\n",
      "4. Exit\n",
      "Enter your choice (1-4): 4\n",
      "Thank you for banking with us. Your patronage is appreciated!\n"
     ]
    }
   ],
   "source": [
    "def Exit():\n",
    "    print(\"Thank you for banking with us. Your patronage is appreciated!\")\n",
    "    return \"Exit\"\n",
    "\n",
    "# Main Program:\n",
    "while True:\n",
    "    pin = validate_pin()\n",
    "    if not pin:\n",
    "        break\n",
    "    \n",
    "    while True:\n",
    "        print(\"\\nPlease choose an option:\")\n",
    "        for index, value in enumerate(Menu, start=1):\n",
    "            print(f\"{index}. {value}\")\n",
    "        \n",
    "        choice = int(input(\"Enter your choice (1-4): \"))\n",
    "        \n",
    "        if choice == 1:\n",
    "            balance = Check_Balance(pin)\n",
    "            print(f\"Your current balance is: {balance}\")\n",
    "        elif choice == 2:\n",
    "            deposit(pin)\n",
    "        elif choice == 3:\n",
    "            withdraw(pin)\n",
    "        elif choice == 4:\n",
    "            Exit()\n",
    "            break\n",
    "        else:\n",
    "            print(\"Invalid choice, please select a valid option.\")\n",
    "    \n",
    "    break"
   ]
  },
  {
   "cell_type": "code",
   "execution_count": null,
   "id": "fb07d3f8",
   "metadata": {},
   "outputs": [],
   "source": []
  }
 ],
 "metadata": {
  "kernelspec": {
   "display_name": "Python 3 (ipykernel)",
   "language": "python",
   "name": "python3"
  },
  "language_info": {
   "codemirror_mode": {
    "name": "ipython",
    "version": 3
   },
   "file_extension": ".py",
   "mimetype": "text/x-python",
   "name": "python",
   "nbconvert_exporter": "python",
   "pygments_lexer": "ipython3",
   "version": "3.11.5"
  }
 },
 "nbformat": 4,
 "nbformat_minor": 5
}
